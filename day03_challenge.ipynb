{
  "nbformat": 4,
  "nbformat_minor": 0,
  "metadata": {
    "colab": {
      "provenance": [],
      "authorship_tag": "ABX9TyNFQwcedQ/BhG2DWkBq/qmu",
      "include_colab_link": true
    },
    "kernelspec": {
      "name": "python3",
      "display_name": "Python 3"
    },
    "language_info": {
      "name": "python"
    }
  },
  "cells": [
    {
      "cell_type": "markdown",
      "metadata": {
        "id": "view-in-github",
        "colab_type": "text"
      },
      "source": [
        "<a href=\"https://colab.research.google.com/github/kiranwahid/python-day3-challenge/blob/main/day03_challenge.ipynb\" target=\"_parent\"><img src=\"https://colab.research.google.com/assets/colab-badge.svg\" alt=\"Open In Colab\"/></a>"
      ]
    },
    {
      "cell_type": "markdown",
      "source": [
        "# 📢 Day 3 – Daily Python Challenge 🐍\n",
        "🚀 Challenge: Aisa Python program likho jo user se ek number le aur check kare ke wo prime number hai ya nahi! 🔢💡"
      ],
      "metadata": {
        "id": "De-VrYb_s_JY"
      }
    },
    {
      "cell_type": "code",
      "execution_count": null,
      "metadata": {
        "colab": {
          "base_uri": "https://localhost:8080/"
        },
        "id": "mYGl3pIMqukc",
        "outputId": "54b3e0d7-9d82-4368-a135-018210627fb0"
      },
      "outputs": [
        {
          "output_type": "stream",
          "name": "stdout",
          "text": [
            "Enter a number: 7\n",
            "7 is a prime number\n"
          ]
        }
      ],
      "source": [
        "# get  user input\n",
        "user_input = int(input(\"Enter a number: \"))\n",
        "\n",
        "# check the number is primer or not\n",
        "if user_input > 1:\n",
        "  for i in range(2, user_input):\n",
        "    if (user_input % i) == 0:\n",
        "      print(user_input, \"is not a prime number\")\n",
        "      break\n",
        "  else:\n",
        "    print(user_input, \"is a prime number\")\n",
        "\n",
        "\n"
      ]
    }
  ]
}